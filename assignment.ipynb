{
  "cells": [
    {
      "cell_type": "markdown",
      "id": "e0c7b14a-e5aa-4abc-b48b-b8a9d20dacac",
      "metadata": {
        "id": "e0c7b14a-e5aa-4abc-b48b-b8a9d20dacac"
      },
      "source": [
        "# Assignment: Linear Models\n",
        "## Do two questions in total: \"Q1+Q2\" or \"Q1+Q3\"\n",
        "### `! git clone https://github.com/ds3001f25/linear_models_assignment.git`"
      ]
    },
    {
      "cell_type": "markdown",
      "id": "ca1cfba3",
      "metadata": {
        "vscode": {
          "languageId": "plaintext"
        },
        "id": "ca1cfba3"
      },
      "source": [
        "**Q1.** Let's explore multiple linear regression in a two-variable case, to build more intuition about what is happening.\n",
        "\n",
        "Suppose the model is\n",
        "$$\n",
        "\\hat{y}_i = b_0 + b_1 z_{i1} + b_2 z_{i2}\n",
        "$$\n",
        "Assume that $z_{ij}$ is centered or de-meaned, so that $z_{ij} = x_{ij} - m_j$ where $m_j$ is the mean of variable $j$ and $x_{ij}$ is the original value of variable $j$ for observation $i$. Notice that this implies\n",
        "$$\n",
        "\\dfrac{1}{N} \\sum_{i=1}^N z_{ij} = 0\n",
        "$$\n",
        "which will simplify your calculations below substantially!\n",
        "\n",
        "1. Write down the SSE for this model.\n",
        "2. Take partial derivatives with respect to $b_0$, $b_1$, and $b_2$.\n",
        "3. Verify that the average error is zero and $e \\cdot z =0$ at the optimum, just as in the single linear regression case.\n",
        "4. Show that the optimal intercept is $b_0^* = \\bar{y}$. Eliminate $b_0^*$ from the remaining equations, and focus on $b_1$ and $b_2$.\n",
        "5. Write your results as a matrix equation in the form \"$Ab=C$\". These are called the **normal equations**.\n",
        "6. Divide both sides by $N$ and substitute $z_{ij} = x_{ij} - m_j$ back into your normal equations for $x_{ij}$. What is the matrix $A$? What is the vector $C$? Explain the intuition of your discovery."
      ]
    },
    {
      "cell_type": "code",
      "execution_count": null,
      "id": "b005058d",
      "metadata": {
        "id": "b005058d"
      },
      "outputs": [],
      "source": []
    },
    {
      "cell_type": "markdown",
      "id": "95f22300-0180-4ed2-be8f-ed56cf4cd36b",
      "metadata": {
        "id": "95f22300-0180-4ed2-be8f-ed56cf4cd36b"
      },
      "source": [
        "**Q2.** This question is a case study for linear models. The data are about car prices. In particular, they include:\n",
        "\n",
        "  - `Price`, `Color`, `Seating_Capacity`\n",
        "  - `Body_Type`: crossover, hatchback, muv, sedan, suv\n",
        "  - `Make`, `Make_Year`: The brand of car and year produced\n",
        "  - `Mileage_Run`: The number of miles on the odometer\n",
        "  - `Fuel_Type`: Diesel or gasoline/petrol\n",
        "  - `Transmission`, `Transmission_Type`:  speeds and automatic/manual\n",
        "\n",
        "  1. Load `cars_hw.csv`. These data were really dirty, and I've already cleaned them a significant amount in terms of missing values and other issues, but some issues remain (e.g. outliers, badly scaled variables that require a log or arcsinh transformation). Clean the data however you think is most appropriate.\n",
        "  2. Summarize the `Price` variable and create a kernel density plot. Use `.groupby()` and `.describe()` to summarize prices by brand (`Make`). Make a grouped kernel density plot by `Make`. Which car brands are the most expensive? What do prices look like in general?\n",
        "  3. Split the data into an 80% training set and a 20% testing set.\n",
        "  4. Make a model where you regress price on the numeric variables alone; what is the $R^2$ and `RMSE` on the training set and test set? Make a second model where, for the categorical variables, you regress price on a model comprised of one-hot encoded regressors/features alone (you can use `pd.get_dummies()`; be careful of the dummy variable trap); what is the $R^2$ and `RMSE` on the test set? Which model performs better on the test set? Make a third model that combines all the regressors from the previous two; what is the $R^2$ and `RMSE` on the test set? Does the joint model perform better or worse, and by home much?\n",
        "  5. Use the `PolynomialFeatures` function from `sklearn` to expand the set of numerical variables you're using in the regression. As you increase the degree of the expansion, how do the $R^2$ and `RMSE` change? At what point does $R^2$ go negative on the test set? For your best model with expanded features, what is the $R^2$ and `RMSE`? How does it compare to your best model from part 4?\n",
        "  6. For your best model so far, determine the predicted values for the test data and plot them against the true values. Do the predicted values and true values roughly line up along the diagonal, or not? Compute the residuals/errors for the test data and create a kernel density plot. Do the residuals look roughly bell-shaped around zero? Evaluate the strengths and weaknesses of your model."
      ]
    },
    {
      "cell_type": "code",
      "execution_count": null,
      "id": "0acc2b86",
      "metadata": {
        "id": "0acc2b86"
      },
      "outputs": [],
      "source": []
    },
    {
      "cell_type": "markdown",
      "id": "aedcd486",
      "metadata": {
        "id": "aedcd486"
      },
      "source": [
        "**Q3.** This question refers to the `heart_hw.csv` data. It contains three variables:\n",
        "\n",
        "  - `y`: Whether the individual survived for three years, coded 0 for death and 1 for survival\n",
        "  - `age`: Patient's age\n",
        "  - `transplant`: `control` for not receiving a transplant and `treatment` for receiving a transplant\n",
        "\n",
        "Since a heart transplant is a dangerous operation and even people who successfully get heart transplants might suffer later complications, we want to look at whether a group of transplant recipients tends to survive longer than a comparison group who does not get the procedure.\n",
        "\n",
        "1. Compute (a) the proportion of people who survive in the control group who do not receive a transplant, and (b) the difference between the proportion of people who survive in the treatment group and the proportion of people who survive in the control group. In a randomized controlled trial, this is called the **average treatment effect**.\n",
        "2. Regress `y` on `transplant` using a linear model with a constant. How does the constant/intercept of the regression and the coefficient on transplant compare to your answers from part 1? Explain the relationship clearly.\n",
        "3. We'd like to include `age` in the regression, since it's reasonable to expect that older patients are less likely to survive an extensive surgery like a heart transplant. Regress `y` on a constant, transplant, and age. How does the intercept change?\n",
        "4. Build a more flexible model that allows for non-linear age effects and interactions between age and treatment. Use a train-test split to validate your model. Estimate your best model, predict the survival probability by age, and plot your results conditional on receiving a transplant and not. Describe what you see.\n",
        "5. Imagine someone suggests using these kinds of models to select who receives organ transplants; perhaps the CDC or NIH starts using a scoring algorithm to decide who is contacted about a potential organ. What are your concerns about how it is built and how it is deployed?"
      ]
    },
    {
      "cell_type": "code",
      "execution_count": 3,
      "id": "d9b3a79a",
      "metadata": {
        "id": "d9b3a79a"
      },
      "outputs": [],
      "source": [
        "import numpy as np\n",
        "import matplotlib.pyplot as plt\n",
        "import pandas as pd\n",
        "import seaborn as sns\n",
        "df = pd.read_csv('/heart_hw.csv')"
      ]
    },
    {
      "cell_type": "markdown",
      "source": [
        "Q3.1"
      ],
      "metadata": {
        "id": "Vil_B5O6_nkh"
      },
      "id": "Vil_B5O6_nkh"
    },
    {
      "cell_type": "code",
      "source": [
        "control_group = df[df['transplant'] == 'control']\n",
        "treatment_group = df[df['transplant'] == 'treatment']\n",
        "\n",
        "prop_control = control_group['y'].mean()\n",
        "print(\"Proportion of patients who do not receive a transplant in the control group and survive:\", prop_control)\n",
        "\n",
        "prop_treatment = treatment_group['y'].mean()\n",
        "\n",
        "diff_prop = prop_treatment - prop_control\n",
        "print(\"Difference in survival proportions:\", diff_prop)"
      ],
      "metadata": {
        "id": "Cbfqvz6tXeNs",
        "outputId": "ffb299cd-5fc8-47eb-a048-76ccb3e14bc0",
        "colab": {
          "base_uri": "https://localhost:8080/"
        }
      },
      "id": "Cbfqvz6tXeNs",
      "execution_count": 8,
      "outputs": [
        {
          "output_type": "stream",
          "name": "stdout",
          "text": [
            "Proportion of patients who do not receive a transplant in the control group and survive: 0.11764705882352941\n",
            "Difference in survival proportions: 0.23017902813299232\n"
          ]
        }
      ]
    },
    {
      "cell_type": "markdown",
      "source": [
        "Q3.2"
      ],
      "metadata": {
        "id": "mh7zFd9f_pMa"
      },
      "id": "mh7zFd9f_pMa"
    },
    {
      "cell_type": "code",
      "source": [
        "from sklearn.linear_model import LinearRegression\n",
        "\n",
        "y = df['y']\n",
        "vars = ['transplant']\n",
        "\n",
        "df['transplant_num'] = (df['transplant'] == 'treatment').astype(int)\n",
        "\n",
        "vars = ['transplant_num']\n",
        "\n",
        "X = df.loc[:, vars]\n",
        "\n",
        "reg = LinearRegression().fit(X, y)\n",
        "\n",
        "# Print results\n",
        "print(\"Intercept:\", reg.intercept_)\n",
        "print(\"Coefficient on transplant:\", reg.coef_)\n",
        "print(\"R-squared:\", reg.score(X, y))\n"
      ],
      "metadata": {
        "id": "aOnEwj4V_m8r",
        "outputId": "a244de05-5fbd-4e66-ef82-8ff3b583187f",
        "colab": {
          "base_uri": "https://localhost:8080/"
        }
      },
      "id": "aOnEwj4V_m8r",
      "execution_count": 9,
      "outputs": [
        {
          "output_type": "stream",
          "name": "stdout",
          "text": [
            "Intercept: 0.1176470588235293\n",
            "Coefficient on transplant: [0.23017903]\n",
            "R-squared: 0.059188892948483174\n"
          ]
        }
      ]
    },
    {
      "cell_type": "markdown",
      "source": [
        "The intercept represents the mean survival probability in the control group. Its value, ~11.8%, exactly matches the value I got in part 1.\n",
        "The coefficient on transplant is the difference between treatment and control survival. In this part and part 1, I got a value of ~0.23."
      ],
      "metadata": {
        "id": "oBGik_q5CbpS"
      },
      "id": "oBGik_q5CbpS"
    },
    {
      "cell_type": "markdown",
      "source": [
        "Q3.3"
      ],
      "metadata": {
        "id": "isQJ-7SxDb3z"
      },
      "id": "isQJ-7SxDb3z"
    },
    {
      "cell_type": "code",
      "source": [
        "df['transplant'] = (df['transplant'] == 'treatment').astype(int)\n",
        "\n",
        "vars = ['transplant', 'age']\n",
        "X = df.loc[:, vars]\n",
        "\n",
        "reg2 = LinearRegression().fit(X, y)\n",
        "\n",
        "print(\"Intercept:\", reg2.intercept_)\n",
        "print(\"Coefficients:\", reg2.coef_)\n",
        "print(\"R-squared:\", reg2.score(X, y))\n"
      ],
      "metadata": {
        "id": "r0qYCcyfDc89",
        "outputId": "0276b7e1-5f9d-4845-b1c3-fbc093f81308",
        "colab": {
          "base_uri": "https://localhost:8080/"
        }
      },
      "id": "r0qYCcyfDc89",
      "execution_count": 12,
      "outputs": [
        {
          "output_type": "stream",
          "name": "stdout",
          "text": [
            "Intercept: 0.7019569721740947\n",
            "Coefficients: [ 0.26470169 -0.01360722]\n",
            "R-squared: 0.1467806594163431\n"
          ]
        }
      ]
    },
    {
      "cell_type": "markdown",
      "source": [
        "The intercept increased from 0.118 to 0.702 because this model accounts for age, meaning it interprets the baseline differently."
      ],
      "metadata": {
        "id": "DguwbTOKEXmK"
      },
      "id": "DguwbTOKEXmK"
    },
    {
      "cell_type": "markdown",
      "source": [
        "Q3.4"
      ],
      "metadata": {
        "id": "CG7Awfb3Er50"
      },
      "id": "CG7Awfb3Er50"
    },
    {
      "cell_type": "code",
      "source": [
        "from sklearn.model_selection import train_test_split\n",
        "\n",
        "df['age_sq'] = df['age'] ** 2\n",
        "df['age_transplant'] = df['age'] * df['transplant']\n",
        "\n",
        "y = df['y']\n",
        "vars = ['transplant', 'age', 'age_sq', 'age_transplant']\n",
        "X = df.loc[:, vars]\n",
        "\n",
        "# Train-test split\n",
        "X_train, X_test, y_train, y_test = train_test_split(X, y, test_size=0.3, random_state=1)\n",
        "\n",
        "\n",
        "reg3 = LinearRegression().fit(X_train, y_train)\n",
        "\n",
        "print(\"Train R²:\", reg3.score(X_train, y_train))\n",
        "print(\"Test R²:\", reg3.score(X_test, y_test))\n"
      ],
      "metadata": {
        "id": "fXFTYb4cEtXv",
        "outputId": "0decc0d3-b0e6-43fd-d790-5b1043d08be2",
        "colab": {
          "base_uri": "https://localhost:8080/"
        }
      },
      "id": "fXFTYb4cEtXv",
      "execution_count": 16,
      "outputs": [
        {
          "output_type": "stream",
          "name": "stdout",
          "text": [
            "Train R²: 0.1582536228841992\n",
            "Test R²: 0.212732813392986\n"
          ]
        }
      ]
    },
    {
      "cell_type": "code",
      "source": [
        "age_grid = np.linspace(df['age'].min(), df['age'].max(), 100)\n",
        "\n",
        "X_control = pd.DataFrame({\n",
        "    'transplant': 0,\n",
        "    'age': age_grid,\n",
        "    'age_sq': age_grid ** 2,\n",
        "    'age_transplant': 0 * age_grid\n",
        "})\n",
        "pred_control = reg3.predict(X_control)\n",
        "\n",
        "X_treatment = pd.DataFrame({\n",
        "    'transplant': 1,\n",
        "    'age': age_grid,\n",
        "    'age_sq': age_grid ** 2,\n",
        "    'age_transplant': 1 * age_grid\n",
        "})\n",
        "pred_treatment = reg3.predict(X_treatment)\n",
        "\n",
        "plt.figure(figsize=(8, 5))\n",
        "plt.plot(age_grid, pred_control, label='Control (No Transplant)')\n",
        "plt.plot(age_grid, pred_treatment, label='Treatment (Transplant)')\n",
        "plt.xlabel('Age')\n",
        "plt.ylabel('Predicted Survival Probability')\n",
        "plt.title('Predicted Survival by Age and Transplant Status')\n",
        "plt.legend()\n",
        "plt.grid(True)\n",
        "plt.show()"
      ],
      "metadata": {
        "id": "K1DhzNe8FDBa",
        "outputId": "ee11b286-bcbc-4691-c38c-0efe65069789",
        "colab": {
          "base_uri": "https://localhost:8080/",
          "height": 487
        }
      },
      "id": "K1DhzNe8FDBa",
      "execution_count": 17,
      "outputs": [
        {
          "output_type": "display_data",
          "data": {
            "text/plain": [
              "<Figure size 800x500 with 1 Axes>"
            ],
            "image/png": "[encoded data removed]"
          },
          "metadata": {}
        }
      ]
    },
    {
      "cell_type": "markdown",
      "source": [
        "The predicted survival probability for transplant recipients starts high for younger patients and decreases steadily with age, reaching 0% around age 62. The control group starts lower for young patients (~30%) and declines to 0% by age 58. The gap between treatment and control is largest for younger patients and narrows with age, showing that transplants are predicted to be most beneficial for younger patients."
      ],
      "metadata": {
        "id": "tMMRlZnQFrgu"
      },
      "id": "tMMRlZnQFrgu"
    },
    {
      "cell_type": "markdown",
      "source": [
        "Q3.5"
      ],
      "metadata": {
        "id": "2pnDYCnLGLhI"
      },
      "id": "2pnDYCnLGLhI"
    },
    {
      "cell_type": "markdown",
      "source": [
        "Using a predictive model to choose who receives transplants raises several concerns. The model captures correlations in data but doesn't guarantee causal effects, so relying on it could misrepresent who actually benefits. Models may also reflect biases in the training data, leading to unfair treatment of certain groups. Additionally, small sample sizes or missing patient types can make predictions unreliable. Models should not replace medical decision making but can be used to support it."
      ],
      "metadata": {
        "id": "DMV532xyGMga"
      },
      "id": "DMV532xyGMga"
    }
  ],
  "metadata": {
    "colab": {
      "provenance": []
    },
    "kernelspec": {
      "display_name": "Python 3 (ipykernel)",
      "language": "python",
      "name": "python3"
    },
    "language_info": {
      "codemirror_mode": {
        "name": "ipython",
        "version": 3
      },
      "file_extension": ".py",
      "mimetype": "text/x-python",
      "name": "python",
      "nbconvert_exporter": "python",
      "pygments_lexer": "ipython3",
      "version": "3.10.18"
    }
  },
  "nbformat": 4,
  "nbformat_minor": 5
}